{
 "cells": [
  {
   "cell_type": "code",
   "execution_count": 1,
   "metadata": {},
   "outputs": [],
   "source": [
    "import pandas as pd\n",
    "import requests\n",
    "from bs4 import BeautifulSoup"
   ]
  },
  {
   "cell_type": "code",
   "execution_count": 2,
   "metadata": {},
   "outputs": [],
   "source": [
    "url = 'https://en.wikipedia.org/wiki/List_of_most_valuable_companies_in_India'\n",
    "page= requests.get(url)\n",
    "soup = BeautifulSoup(page.text, 'html')"
   ]
  },
  {
   "cell_type": "code",
   "execution_count": 3,
   "metadata": {},
   "outputs": [],
   "source": [
    "most_valuable_by_market_cap_2023=soup.find_all('table')[1]\n",
    "titles2023 = most_valuable_by_market_cap_2023.find_all('th')"
   ]
  },
  {
   "cell_type": "code",
   "execution_count": 4,
   "metadata": {},
   "outputs": [],
   "source": [
    "fields2023 = [title.text.strip() for title in titles2023]"
   ]
  },
  {
   "cell_type": "code",
   "execution_count": 5,
   "metadata": {},
   "outputs": [
    {
     "data": {
      "text/html": [
       "<div>\n",
       "<style scoped>\n",
       "    .dataframe tbody tr th:only-of-type {\n",
       "        vertical-align: middle;\n",
       "    }\n",
       "\n",
       "    .dataframe tbody tr th {\n",
       "        vertical-align: top;\n",
       "    }\n",
       "\n",
       "    .dataframe thead th {\n",
       "        text-align: right;\n",
       "    }\n",
       "</style>\n",
       "<table border=\"1\" class=\"dataframe\">\n",
       "  <thead>\n",
       "    <tr style=\"text-align: right;\">\n",
       "      <th></th>\n",
       "      <th>Rank</th>\n",
       "      <th>Company name</th>\n",
       "      <th>Sector</th>\n",
       "      <th>Market capitalization (Rs Cr)</th>\n",
       "    </tr>\n",
       "  </thead>\n",
       "  <tbody>\n",
       "  </tbody>\n",
       "</table>\n",
       "</div>"
      ],
      "text/plain": [
       "Empty DataFrame\n",
       "Columns: [Rank, Company name, Sector, Market capitalization (Rs Cr)]\n",
       "Index: []"
      ]
     },
     "execution_count": 5,
     "metadata": {},
     "output_type": "execute_result"
    }
   ],
   "source": [
    "df = pd.DataFrame(columns=fields2023)\n",
    "df"
   ]
  },
  {
   "cell_type": "code",
   "execution_count": 6,
   "metadata": {},
   "outputs": [
    {
     "data": {
      "text/plain": [
       "[<tr>\n",
       " <td>1\n",
       " </td>\n",
       " <td>Reliance Industries\n",
       " </td>\n",
       " <td>Oil Exploration and Production\n",
       " </td>\n",
       " <td>15.66\n",
       " </td></tr>,\n",
       " <tr>\n",
       " <td>2\n",
       " </td>\n",
       " <td>TATA Consultancy Services (TCS)\n",
       " </td>\n",
       " <td>Information Technology\n",
       " </td>\n",
       " <td>12.19\n",
       " </td></tr>,\n",
       " <tr>\n",
       " <td>3\n",
       " </td>\n",
       " <td>HDFC Bank\n",
       " </td>\n",
       " <td>Banking\n",
       " </td>\n",
       " <td>11.29\n",
       " </td></tr>,\n",
       " <tr>\n",
       " <td>4\n",
       " </td>\n",
       " <td>ICICI Bank\n",
       " </td>\n",
       " <td>Banking\n",
       " </td>\n",
       " <td>6.54\n",
       " </td></tr>,\n",
       " <tr>\n",
       " <td>5\n",
       " </td>\n",
       " <td>Hindustan Unilever (HUL)\n",
       " </td>\n",
       " <td>Consumer Goods\n",
       " </td>\n",
       " <td>5.81\n",
       " </td></tr>,\n",
       " <tr>\n",
       " <td>6\n",
       " </td>\n",
       " <td>Infosys\n",
       " </td>\n",
       " <td>Information Technology\n",
       " </td>\n",
       " <td>5.70\n",
       " </td></tr>,\n",
       " <tr>\n",
       " <td>7\n",
       " </td>\n",
       " <td>ITC\n",
       " </td>\n",
       " <td>Consumer Goods\n",
       " </td>\n",
       " <td>5.43\n",
       " </td></tr>,\n",
       " <tr>\n",
       " <td>8\n",
       " </td>\n",
       " <td>Bharti Airtel\n",
       " </td>\n",
       " <td>Telecommunications\n",
       " </td>\n",
       " <td>5.25\n",
       " </td></tr>,\n",
       " <tr>\n",
       " <td>9\n",
       " </td>\n",
       " <td>State Bank of India (SBI)\n",
       " </td>\n",
       " <td>Banking\n",
       " </td>\n",
       " <td>5.18\n",
       " </td></tr>,\n",
       " <tr>\n",
       " <td>10\n",
       " </td>\n",
       " <td>Bajaj Finance\n",
       " </td>\n",
       " <td>Financial Services\n",
       " </td>\n",
       " <td>4.46\n",
       " </td></tr>]"
      ]
     },
     "execution_count": 6,
     "metadata": {},
     "output_type": "execute_result"
    }
   ],
   "source": [
    "data2023 = most_valuable_by_market_cap_2023.find_all('tr')[1:]\n",
    "data2023"
   ]
  },
  {
   "cell_type": "code",
   "execution_count": 7,
   "metadata": {},
   "outputs": [],
   "source": [
    "for row in data2023:\n",
    "    row_data = row.find_all('td')\n",
    "    isolate_row_data = [data.text.strip() for data in row_data]\n",
    "    # print(isolate_row_data)\n",
    "    number_of_rows = len(df)\n",
    "    # loc is used to access a group of rows and columns by label(s) or a boolean array.\n",
    "    df.loc[number_of_rows] = isolate_row_data "
   ]
  },
  {
   "cell_type": "code",
   "execution_count": 8,
   "metadata": {},
   "outputs": [],
   "source": [
    "df.to_csv('../data/most_valuable_by_market_cap_2023.csv', index=False)"
   ]
  }
 ],
 "metadata": {
  "kernelspec": {
   "display_name": "Python 3",
   "language": "python",
   "name": "python3"
  },
  "language_info": {
   "codemirror_mode": {
    "name": "ipython",
    "version": 3
   },
   "file_extension": ".py",
   "mimetype": "text/x-python",
   "name": "python",
   "nbconvert_exporter": "python",
   "pygments_lexer": "ipython3",
   "version": "3.12.1"
  }
 },
 "nbformat": 4,
 "nbformat_minor": 2
}
